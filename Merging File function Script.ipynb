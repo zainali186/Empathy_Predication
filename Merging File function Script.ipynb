{
 "cells": [
  {
   "cell_type": "code",
   "execution_count": 8,
   "id": "bd4191cc",
   "metadata": {},
   "outputs": [],
   "source": [
    "import os\n",
    "import pandas as pd\n",
    "\n",
    "def merge_csv_files(input_dir, output_file):\n",
    "    # Get a list of all CSV files in the input directory\n",
    "    csv_files = [f for f in os.listdir(input_dir) if f.endswith('.csv')]\n",
    "\n",
    "    # Concatenate all CSV files into a single DataFrame and sort by participant number\n",
    "    dataframes = []\n",
    "    for csv_file in csv_files:\n",
    "        csv_path = os.path.join(input_dir, csv_file)\n",
    "        dataframe = pd.read_csv(csv_path)\n",
    "        dataframes.append(dataframe)\n",
    "    merged_dataframe = pd.concat(dataframes, ignore_index=True)\n",
    "    merged_dataframe = merged_dataframe.sort_values('Participant_Number')\n",
    "\n",
    "    # Write the merged DataFrame to a CSV file\n",
    "    merged_dataframe.to_csv(output_file, index=False)\n",
    "\n",
    "\n",
    "    # Write the merged DataFrame to a CSV file\n",
    "    merged_dataframe.to_csv(output_file, index=False)\n",
    "input_dir = 'C:/Users/Zain Ali/Desktop/New folder/Testing group'\n",
    "output_file = 'Control_Group_data.csv'\n",
    "merge_csv_files(input_dir, output_file)\n"
   ]
  },
  {
   "cell_type": "code",
   "execution_count": null,
   "id": "bc90473b",
   "metadata": {},
   "outputs": [],
   "source": []
  }
 ],
 "metadata": {
  "kernelspec": {
   "display_name": "Python 3 (ipykernel)",
   "language": "python",
   "name": "python3"
  },
  "language_info": {
   "codemirror_mode": {
    "name": "ipython",
    "version": 3
   },
   "file_extension": ".py",
   "mimetype": "text/x-python",
   "name": "python",
   "nbconvert_exporter": "python",
   "pygments_lexer": "ipython3",
   "version": "3.9.15"
  }
 },
 "nbformat": 4,
 "nbformat_minor": 5
}
